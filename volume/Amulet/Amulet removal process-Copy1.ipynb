{
 "cells": [
  {
   "cell_type": "code",
   "execution_count": 2,
   "id": "8ec4b446",
   "metadata": {
    "scrolled": true
   },
   "outputs": [],
   "source": [
    "#!pip3 install numpy pandas scipy statsmodels\n",
    "#!pip install gitpython\n",
    "import git\n",
    "\n",
    "# Replace <repository_url> with the actual repository URL\n",
    "repository_url = \"https://github.com/UcarLab/AMULET\"\n",
    "\n",
    "# Clone the repository into the current directory\n",
    "repo = git.Repo.clone_from(repository_url, \"AMULET\")\n"
   ]
  },
  {
   "cell_type": "code",
   "execution_count": 6,
   "id": "e7c8c7b6",
   "metadata": {},
   "outputs": [],
   "source": [
    "!chmod +x /volume/AMULET/AMULET.sh"
   ]
  },
  {
   "cell_type": "code",
   "execution_count": 1,
   "id": "abeff16f",
   "metadata": {},
   "outputs": [
    {
     "name": "stdout",
     "output_type": "stream",
     "text": [
      "python3: can't open file '/volume/AMULET/AMULET.sh/FragmentFileOverlapCounter.py': [Errno 20] Not a directory\r\n",
      "python3: can't open file '/volume/AMULET/AMULET.sh/AMULET.py': [Errno 20] Not a directory\r\n"
     ]
    }
   ],
   "source": [
    "!bash AMULET.sh /volume/SAMPLE_1/atac_fragments.tsv.gz /volume/SAMPLE_1/singlecell.csv /volume/human_autosomes.txt /volume/blacklist_repeats_segdups_rmsk_hg38.bed /volume/SAMPLE_1/amulet_out/ /volume/AMULET/AMULET.sh\n"
   ]
  }
 ],
 "metadata": {
  "kernelspec": {
   "display_name": "Python 3 (ipykernel)",
   "language": "python",
   "name": "python3"
  },
  "language_info": {
   "codemirror_mode": {
    "name": "ipython",
    "version": 3
   },
   "file_extension": ".py",
   "mimetype": "text/x-python",
   "name": "python",
   "nbconvert_exporter": "python",
   "pygments_lexer": "ipython3",
   "version": "3.10.12"
  }
 },
 "nbformat": 4,
 "nbformat_minor": 5
}
