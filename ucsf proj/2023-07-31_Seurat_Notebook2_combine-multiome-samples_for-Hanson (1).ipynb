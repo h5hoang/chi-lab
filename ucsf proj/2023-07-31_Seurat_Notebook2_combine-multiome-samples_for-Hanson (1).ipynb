{
 "cells": [
  {
   "cell_type": "code",
   "execution_count": null,
   "id": "7be447aa",
   "metadata": {},
   "outputs": [],
   "source": [
    "# combine all the multiome samples together"
   ]
  },
  {
   "cell_type": "code",
   "execution_count": null,
   "id": "06299bf3",
   "metadata": {
    "scrolled": true
   },
   "outputs": [],
   "source": [
    "setwd(file.path(\"/volume/afib/out/\"))"
   ]
  },
  {
   "cell_type": "code",
   "execution_count": null,
   "id": "4db24553",
   "metadata": {
    "scrolled": true
   },
   "outputs": [],
   "source": [
    "library(Seurat)\n",
    "library(dplyr)\n",
    "library(ggplot2)\n",
    "library(Signac)\n",
    "library(GenomeInfoDb)\n",
    "library(BSgenome.Hsapiens.UCSC.hg38)\n",
    "library(EnsDb.Hsapiens.v86) # for a set of annotations for hg38"
   ]
  },
  {
   "cell_type": "markdown",
   "id": "56c1ad7e",
   "metadata": {},
   "source": [
    "# Load in data"
   ]
  },
  {
   "cell_type": "code",
   "execution_count": null,
   "id": "d82f3461",
   "metadata": {},
   "outputs": [],
   "source": [
    "ctrl1 <- readRDS('/volume/afib/out/QC_preprocessing/CTRL_1_LA_postDoublet+RNAcontamFilt.rds')\n",
    "ctrl2 <- readRDS('/volume/afib/out/QC_preprocessing/CTRL_2_LA_postDoublet+RNAcontamFilt.rds')\n",
    "ctrl3 <- readRDS('/volume/afib/out/QC_preprocessing/CTRL_3_LA_postDoublet+RNAcontamFilt.rds')\n",
    "ctrl4 <- readRDS('/volume/afib/out/QC_preprocessing/CTRL_4_LA_postDoublet+RNAcontamFilt.rds')\n",
    "ctrl5 <- readRDS('/volume/afib/out/QC_preprocessing/CTRL_5_LA_postDoublet+RNAcontamFilt.rds')\n",
    "ctrl6 <- readRDS('/volume/afib/out/QC_preprocessing/CTRL_6_LA_postDoublet+RNAcontamFilt.rds')\n",
    "ctrl7 <- readRDS('/volume/afib/out/QC_preprocessing/CTRL_7_LA_postDoublet+RNAcontamFilt.rds')\n",
    "ctrl8 <- readRDS('/volume/afib/out/QC_preprocessing/CTRL_8_LA_postDoublet+RNAcontamFilt.rds')\n",
    "d1 <- readRDS('/volume/afib/out/QC_preprocessing/D1_LA_postDoublet+RNAcontamFilt.rds')\n",
    "d9 <- readRDS('/volume/afib/out/QC_preprocessing/D9_LA_postDoublet+RNAcontamFilt.rds')\n",
    "\n",
    "af1 <- readRDS('/volume/afib/out/QC_preprocessing/AF_1_LA_postDoublet+RNAcontamFilt.rds')\n",
    "af2 <- readRDS('/volume/afib/out/QC_preprocessing/AF_2_LA_postDoublet+RNAcontamFilt.rds')\n",
    "af3 <- readRDS('/volume/afib/out/QC_preprocessing/AF_3_LA_postDoublet+RNAcontamFilt.rds')\n",
    "af4 <- readRDS('/volume/afib/out/QC_preprocessing/AF_4_LA_postDoublet+RNAcontamFilt.rds')\n",
    "af5 <- readRDS('/volume/afib/out/QC_preprocessing/AF_5_LA_postDoublet+RNAcontamFilt.rds')\n",
    "af6 <- readRDS('/volume/afib/out/QC_preprocessing/AF_6_LA_postDoublet+RNAcontamFilt.rds')\n",
    "af7 <- readRDS('/volume/afib/out/QC_preprocessing/AF_7_LA_postDoublet+RNAcontamFilt.rds')\n",
    "af8 <- readRDS('/volume/afib/out/QC_preprocessing/AF_8_LA_postDoublet+RNAcontamFilt.rds')\n",
    "hf6 <- readRDS('/volume/afib/out/QC_preprocessing/HF6_LA_postDoublet+RNAcontamFilt.rds')\n",
    "hf9 <- readRDS('/volume/afib/out/QC_preprocessing/HF9_LA_postDoublet+RNAcontamFilt.rds')\n",
    "\n",
    "rna_list <- c(ctrl1,ctrl2,ctrl3,ctrl4,ctrl5,ctrl6,ctrl7,ctrl8,d1,d9,\n",
    "             af1,af2,af3,af4,af5,af6,af7,af8,hf6,hf9)"
   ]
  },
  {
   "cell_type": "markdown",
   "id": "e76ab6a8",
   "metadata": {},
   "source": [
    "# Create combined object"
   ]
  },
  {
   "cell_type": "code",
   "execution_count": null,
   "id": "90985688",
   "metadata": {
    "scrolled": true
   },
   "outputs": [],
   "source": [
    "for (seurat in rna_list){\n",
    "    DefaultAssay(seurat) <- 'ATAC'\n",
    "}"
   ]
  },
  {
   "cell_type": "code",
   "execution_count": null,
   "id": "12d7ef77",
   "metadata": {
    "scrolled": true
   },
   "outputs": [],
   "source": [
    "combined <- merge(rna_list[[1]], rna_list[2:length(rna_list)])"
   ]
  },
  {
   "cell_type": "code",
   "execution_count": null,
   "id": "383c7ab1",
   "metadata": {
    "scrolled": true
   },
   "outputs": [],
   "source": [
    "# RNA analysis\n",
    "DefaultAssay(combined) <- 'RNA'\n",
    "combined <- NormalizeData(combined, verbose = FALSE)\n",
    "combined <- FindVariableFeatures(combined, verbose = FALSE)\n",
    "combined <- ScaleData(combined, verbose = FALSE)\n",
    "combined <- RunPCA(combined, verbose = FALSE)\n",
    "combined <- RunUMAP(combined, dims = 1:50, reduction.name = 'umap.rna', reduction.key = 'rnaUMAP_')"
   ]
  },
  {
   "cell_type": "code",
   "execution_count": null,
   "id": "f7e4c08d",
   "metadata": {
    "scrolled": true
   },
   "outputs": [],
   "source": [
    "# ATAC analysis\n",
    "# We exclude the first dimension as this is typically correlated with sequencing depth\n",
    "DefaultAssay(combined) <- 'ATAC'\n",
    "combined <- RunTFIDF(combined)\n",
    "combined <- FindTopFeatures(combined, min.cutoff='q0')\n",
    "combined <- RunSVD(combined)\n",
    "combined <- RunUMAP(combined, reduction='lsi', dims=2:50, reduction.name='umap.atac', reduction.key='atacUMAP_')"
   ]
  },
  {
   "cell_type": "code",
   "execution_count": null,
   "id": "f96a924a",
   "metadata": {
    "scrolled": true
   },
   "outputs": [],
   "source": [
    "# WNN multimodal analysis, representing a weighted combination of RNA and ATAC-seq modalities. \n",
    "combined <- FindMultiModalNeighbors(combined, reduction.list=list('pca', 'lsi'), dims.list=list(1:50, 2:50))\n",
    "combined <- RunUMAP(combined, nn.name='weighted.nn', reduction.name='umap.wnn', reduction.key='wnnUMAP_')\n",
    "combined <- FindClusters(combined, graph.name='wsnn', verbose=FALSE)"
   ]
  },
  {
   "cell_type": "code",
   "execution_count": null,
   "id": "9dbbc969",
   "metadata": {},
   "outputs": [],
   "source": [
    "options(repr.plot.width=20, repr.plot.height=7)\n",
    "p1 <- DimPlot(combined, reduction = \"umap.rna\", group.by = \"seurat_clusters\", label = TRUE, repel = TRUE) + ggtitle(\"RNA\")\n",
    "p2 <- DimPlot(combined, reduction = \"umap.atac\", group.by = \"seurat_clusters\", label = TRUE, repel = TRUE) + ggtitle(\"ATAC\")\n",
    "p3 <- DimPlot(combined, reduction = \"umap.wnn\", group.by = \"seurat_clusters\", label = TRUE, repel = TRUE) + ggtitle(\"WNN\")\n",
    "p1 + p2 + p3 & NoLegend() & theme(plot.title = element_text(hjust = 0.5))"
   ]
  },
  {
   "cell_type": "markdown",
   "id": "55a7bc33",
   "metadata": {},
   "source": [
    "# Harmony"
   ]
  },
  {
   "cell_type": "code",
   "execution_count": null,
   "id": "3fa375e1",
   "metadata": {},
   "outputs": [],
   "source": [
    "library(harmony)"
   ]
  },
  {
   "cell_type": "code",
   "execution_count": null,
   "id": "c30b1317",
   "metadata": {
    "scrolled": false
   },
   "outputs": [],
   "source": [
    "# Harmonize based on RNA assay\n",
    "combined <- RunHarmony(\n",
    "    object = combined,\n",
    "    group.by.vars = 'orig.ident',\n",
    "    reduction = 'pca',\n",
    "    assay.use = 'RNA',\n",
    "    project.dim = FALSE,\n",
    "    reduction.save = \"harmony_rna\"\n",
    ")"
   ]
  },
  {
   "cell_type": "code",
   "execution_count": null,
   "id": "445ff4fe",
   "metadata": {},
   "outputs": [],
   "source": [
    "# Harmonize based on ATAC assay\n",
    "combined <- RunHarmony(\n",
    "    object = combined,\n",
    "    group.by.vars = 'orig.ident',\n",
    "    reduction = 'lsi',\n",
    "    assay.use = 'ATAC',\n",
    "    project.dim = FALSE,\n",
    "    reduction.save = \"harmony_atac\"\n",
    ")"
   ]
  },
  {
   "cell_type": "code",
   "execution_count": null,
   "id": "f5d543f7",
   "metadata": {},
   "outputs": [],
   "source": [
    "combined"
   ]
  },
  {
   "cell_type": "code",
   "execution_count": null,
   "id": "9ec9fcca",
   "metadata": {
    "scrolled": true
   },
   "outputs": [],
   "source": [
    "DefaultAssay(combined) <- 'ATAC'\n",
    "combined <- RunUMAP(combined, reduction = 'harmony_atac', dims = 2:50, reduction.name = \"umap.harmony.atac\", reduction.key = \"atacUMAPHarmony_\")"
   ]
  },
  {
   "cell_type": "code",
   "execution_count": null,
   "id": "caee80b6",
   "metadata": {
    "scrolled": true
   },
   "outputs": [],
   "source": [
    "DefaultAssay(combined) <- 'RNA'\n",
    "combined <- RunUMAP(combined, reduction = 'harmony_rna', dims = 1:50, reduction.name = \"umap.harmony.rna\", reduction.key = \"rnaUMAPHarmony_\")"
   ]
  },
  {
   "cell_type": "code",
   "execution_count": null,
   "id": "98a01a1c",
   "metadata": {
    "scrolled": true
   },
   "outputs": [],
   "source": [
    "# rebuild a joint neighbor graph using both assays - WNN\n",
    "combined <- FindMultiModalNeighbors(combined, reduction.list = list(\"harmony_rna\", \"harmony_atac\"), dims.list = list(1:50, 2:50))\n",
    "combined <- RunUMAP(combined, nn.name = \"weighted.nn\", reduction.name = \"umap.harmony.wnn\", reduction.key = \"wnnUMAPHarmony_\")\n",
    "combined <- FindClusters(combined, graph.name = \"wsnn\")"
   ]
  },
  {
   "cell_type": "code",
   "execution_count": null,
   "id": "deb7be98",
   "metadata": {},
   "outputs": [],
   "source": [
    "options(repr.plot.width=20, repr.plot.height=7)\n",
    "p1 <- DimPlot(combined, reduction = \"umap.harmony.rna\", group.by = \"condition\", shuffle=TRUE) + ggtitle(\"RNA\")\n",
    "p2 <- DimPlot(combined, reduction = \"umap.harmony.atac\", group.by = \"condition\", shuffle=TRUE) + ggtitle(\"ATAC\")\n",
    "p3 <- DimPlot(combined, reduction = \"umap.harmony.wnn\", group.by = \"condition\", shuffle=TRUE) + ggtitle(\"WNN\")\n",
    "p1 + p2 + p3 & NoLegend() & theme(plot.title = element_text(hjust = 0.5))"
   ]
  },
  {
   "cell_type": "code",
   "execution_count": null,
   "id": "1387b240",
   "metadata": {},
   "outputs": [],
   "source": [
    "options(repr.plot.width=20, repr.plot.height=7)\n",
    "p1 <- DimPlot(combined, reduction = \"umap.harmony.rna\", group.by = \"seurat_clusters\", label = TRUE, repel = TRUE) + ggtitle(\"RNA\")\n",
    "p2 <- DimPlot(combined, reduction = \"umap.harmony.atac\", group.by = \"seurat_clusters\", label = TRUE, repel = TRUE) + ggtitle(\"ATAC\")\n",
    "p3 <- DimPlot(combined, reduction = \"umap.harmony.wnn\", group.by = \"seurat_clusters\", label = TRUE, repel = TRUE) + ggtitle(\"WNN\")\n",
    "p1 + p2 + p3 & NoLegend() & theme(plot.title = element_text(hjust = 0.5))"
   ]
  },
  {
   "cell_type": "code",
   "execution_count": null,
   "id": "8056689f",
   "metadata": {},
   "outputs": [],
   "source": [
    "options(repr.plot.width=20, repr.plot.height=7)\n",
    "p1 <- DimPlot(combined, reduction = \"umap.harmony.rna\", group.by = \"orig.ident\", shuffle=TRUE) + ggtitle(\"RNA\")\n",
    "p2 <- DimPlot(combined, reduction = \"umap.harmony.atac\", group.by = \"orig.ident\", shuffle=TRUE) + ggtitle(\"ATAC\")\n",
    "p3 <- DimPlot(combined, reduction = \"umap.harmony.wnn\", group.by = \"orig.ident\", shuffle=TRUE) + ggtitle(\"WNN\")\n",
    "p1 + p2 + p3 & NoLegend() & theme(plot.title = element_text(hjust = 0.5))"
   ]
  },
  {
   "cell_type": "code",
   "execution_count": null,
   "id": "8252a6d2",
   "metadata": {},
   "outputs": [],
   "source": [
    "saveRDS(combined, 'combined_multiome.rds')"
   ]
  }
 ],
 "metadata": {
  "kernelspec": {
   "display_name": "R",
   "language": "R",
   "name": "ir"
  },
  "language_info": {
   "codemirror_mode": "r",
   "file_extension": ".r",
   "mimetype": "text/x-r-source",
   "name": "R",
   "pygments_lexer": "r",
   "version": "4.2.0"
  }
 },
 "nbformat": 4,
 "nbformat_minor": 5
}
